{
 "cells": [
  {
   "cell_type": "code",
   "execution_count": 1,
   "metadata": {},
   "outputs": [],
   "source": [
    "import pandas as pd\n",
    "import numpy as np"
   ]
  },
  {
   "cell_type": "code",
   "execution_count": 2,
   "metadata": {},
   "outputs": [],
   "source": [
    "url = 'https://raw.githubusercontent.com/Bl3f/amse2021/main/Homework/hebergements_classes.csv'\n",
    "df = pd.read_csv(url, sep = \";\")"
   ]
  },
  {
   "cell_type": "code",
   "execution_count": 3,
   "metadata": {},
   "outputs": [
    {
     "data": {
      "text/html": [
       "<div>\n",
       "<style scoped>\n",
       "    .dataframe tbody tr th:only-of-type {\n",
       "        vertical-align: middle;\n",
       "    }\n",
       "\n",
       "    .dataframe tbody tr th {\n",
       "        vertical-align: top;\n",
       "    }\n",
       "\n",
       "    .dataframe thead th {\n",
       "        text-align: right;\n",
       "    }\n",
       "</style>\n",
       "<table border=\"1\" class=\"dataframe\">\n",
       "  <thead>\n",
       "    <tr style=\"text-align: right;\">\n",
       "      <th></th>\n",
       "      <th>DATE DE CLASSEMENT</th>\n",
       "      <th>TYPOLOGIE ÉTABLISSEMENT</th>\n",
       "      <th>CLASSEMENT</th>\n",
       "      <th>CATÉGORIE</th>\n",
       "      <th>MENTION (villages de vacances)</th>\n",
       "      <th>NOM COMMERCIAL</th>\n",
       "      <th>ADRESSE</th>\n",
       "      <th>CODE POSTAL</th>\n",
       "      <th>COMMUNE</th>\n",
       "      <th>SITE INTERNET</th>\n",
       "      <th>TYPE DE SÉJOUR</th>\n",
       "      <th>CAPACITÉ D'ACCUEIL (PERSONNES)</th>\n",
       "      <th>NOMBRE DE CHAMBRES</th>\n",
       "      <th>NOMBRE D'EMPLACEMENTS</th>\n",
       "      <th>NOMBRE D'UNITES D'HABITATION (résidences de tourisme)</th>\n",
       "      <th>NOMBRE DE LOGEMENTS (villages de vacances)</th>\n",
       "    </tr>\n",
       "  </thead>\n",
       "  <tbody>\n",
       "    <tr>\n",
       "      <th>0</th>\n",
       "      <td>18/10/2018</td>\n",
       "      <td>HÔTEL DE TOURISME</td>\n",
       "      <td>4 étoiles</td>\n",
       "      <td>-</td>\n",
       "      <td>-</td>\n",
       "      <td>1872 STADIUM HÔTEL</td>\n",
       "      <td>Boulevard de Leningrad</td>\n",
       "      <td>76600</td>\n",
       "      <td>LE HAVRE</td>\n",
       "      <td>https://www.1872stadiumhotel.com/fr/</td>\n",
       "      <td>-</td>\n",
       "      <td>40</td>\n",
       "      <td>20</td>\n",
       "      <td>-</td>\n",
       "      <td>-</td>\n",
       "      <td>-</td>\n",
       "    </tr>\n",
       "    <tr>\n",
       "      <th>1</th>\n",
       "      <td>26/09/2019</td>\n",
       "      <td>HÔTEL DE TOURISME</td>\n",
       "      <td>2 étoiles</td>\n",
       "      <td>-</td>\n",
       "      <td>-</td>\n",
       "      <td>3B HÔTEL DE BORDEAUX</td>\n",
       "      <td>66 avenue de la Libération</td>\n",
       "      <td>33440</td>\n",
       "      <td>AMBARÈS-ET-LAGRAVE</td>\n",
       "      <td>https://www.hotel-restaurant-gironde.fr/</td>\n",
       "      <td>-</td>\n",
       "      <td>26</td>\n",
       "      <td>14</td>\n",
       "      <td>-</td>\n",
       "      <td>-</td>\n",
       "      <td>-</td>\n",
       "    </tr>\n",
       "    <tr>\n",
       "      <th>2</th>\n",
       "      <td>12/06/2017</td>\n",
       "      <td>HÔTEL DE TOURISME</td>\n",
       "      <td>4 étoiles</td>\n",
       "      <td>-</td>\n",
       "      <td>-</td>\n",
       "      <td>5 TERRES HÔTEL &amp; SPA MGALLERY BY SOFITEL</td>\n",
       "      <td>11 Place de l'Hôtel de ville</td>\n",
       "      <td>67140</td>\n",
       "      <td>BARR</td>\n",
       "      <td>https://5terres-hotel.fr/fr/</td>\n",
       "      <td>-</td>\n",
       "      <td>56</td>\n",
       "      <td>27</td>\n",
       "      <td>-</td>\n",
       "      <td>-</td>\n",
       "      <td>-</td>\n",
       "    </tr>\n",
       "    <tr>\n",
       "      <th>3</th>\n",
       "      <td>22/09/2017</td>\n",
       "      <td>HÔTEL DE TOURISME</td>\n",
       "      <td>4 étoiles</td>\n",
       "      <td>-</td>\n",
       "      <td>-</td>\n",
       "      <td>7HÔTEL&amp;SPA</td>\n",
       "      <td>550 Boulevard Sébastien Brandt</td>\n",
       "      <td>67400</td>\n",
       "      <td>ILLKIRCH-GRAFFENSTADEN</td>\n",
       "      <td>https://7hotel.fr/</td>\n",
       "      <td>-</td>\n",
       "      <td>312</td>\n",
       "      <td>139</td>\n",
       "      <td>-</td>\n",
       "      <td>-</td>\n",
       "      <td>-</td>\n",
       "    </tr>\n",
       "    <tr>\n",
       "      <th>4</th>\n",
       "      <td>29/11/2019</td>\n",
       "      <td>HÔTEL DE TOURISME</td>\n",
       "      <td>3 étoiles</td>\n",
       "      <td>-</td>\n",
       "      <td>-</td>\n",
       "      <td>9 HÔTEL BASTILLE LYON</td>\n",
       "      <td>23 rue de lyon</td>\n",
       "      <td>75012</td>\n",
       "      <td>PARIS</td>\n",
       "      <td>https://www.9-hotel-bastille-lyon.fr</td>\n",
       "      <td>-</td>\n",
       "      <td>90</td>\n",
       "      <td>48</td>\n",
       "      <td>-</td>\n",
       "      <td>-</td>\n",
       "      <td>-</td>\n",
       "    </tr>\n",
       "    <tr>\n",
       "      <th>5</th>\n",
       "      <td>27/09/2019</td>\n",
       "      <td>HÔTEL DE TOURISME</td>\n",
       "      <td>3 étoiles</td>\n",
       "      <td>-</td>\n",
       "      <td>-</td>\n",
       "      <td>9 HÔTEL MONTPARNASSE</td>\n",
       "      <td>76 rue Raymond Losserand</td>\n",
       "      <td>75014</td>\n",
       "      <td>PARIS 14E ARRONDISSEMENT</td>\n",
       "      <td>https://www.9-hotel-montparnasse-paris.fr/fr/</td>\n",
       "      <td>-</td>\n",
       "      <td>86</td>\n",
       "      <td>43</td>\n",
       "      <td>-</td>\n",
       "      <td>-</td>\n",
       "      <td>-</td>\n",
       "    </tr>\n",
       "    <tr>\n",
       "      <th>6</th>\n",
       "      <td>13/07/2016</td>\n",
       "      <td>HÔTEL DE TOURISME</td>\n",
       "      <td>3 étoiles</td>\n",
       "      <td>-</td>\n",
       "      <td>-</td>\n",
       "      <td>9HÔTEL OPÉRA</td>\n",
       "      <td>14 rue Papillon</td>\n",
       "      <td>75009</td>\n",
       "      <td>PARIS</td>\n",
       "      <td>http://www.le9hotel.com/fr/h/9-hotel-opera</td>\n",
       "      <td>-</td>\n",
       "      <td>91</td>\n",
       "      <td>48</td>\n",
       "      <td>-</td>\n",
       "      <td>-</td>\n",
       "      <td>-</td>\n",
       "    </tr>\n",
       "    <tr>\n",
       "      <th>7</th>\n",
       "      <td>21/12/2015</td>\n",
       "      <td>HÔTEL DE TOURISME</td>\n",
       "      <td>4 étoiles</td>\n",
       "      <td>-</td>\n",
       "      <td>-</td>\n",
       "      <td>9HÔTEL RÉPUBLIQUE</td>\n",
       "      <td>7/9 Rue Pierre Chausson</td>\n",
       "      <td>75010</td>\n",
       "      <td>PARIS</td>\n",
       "      <td>http://www.le9hotel.com/fr/h/9-hotel-republique</td>\n",
       "      <td>-</td>\n",
       "      <td>92</td>\n",
       "      <td>48</td>\n",
       "      <td>-</td>\n",
       "      <td>-</td>\n",
       "      <td>-</td>\n",
       "    </tr>\n",
       "    <tr>\n",
       "      <th>8</th>\n",
       "      <td>31/10/2017</td>\n",
       "      <td>HÔTEL DE TOURISME</td>\n",
       "      <td>4 étoiles</td>\n",
       "      <td>-</td>\n",
       "      <td>-</td>\n",
       "      <td>ABBAYE DE SAINTE CROIX</td>\n",
       "      <td>route du Val de Cuech</td>\n",
       "      <td>13300</td>\n",
       "      <td>SALON-DE-PROVENCE</td>\n",
       "      <td>http://www.abbaye-de-saintecroix.fr/</td>\n",
       "      <td>-</td>\n",
       "      <td>61</td>\n",
       "      <td>25</td>\n",
       "      <td>-</td>\n",
       "      <td>-</td>\n",
       "      <td>-</td>\n",
       "    </tr>\n",
       "    <tr>\n",
       "      <th>9</th>\n",
       "      <td>07/06/2017</td>\n",
       "      <td>HÔTEL DE TOURISME</td>\n",
       "      <td>4 étoiles</td>\n",
       "      <td>-</td>\n",
       "      <td>-</td>\n",
       "      <td>ABBAYE DE TALLOIRES</td>\n",
       "      <td>chemin des Moines</td>\n",
       "      <td>74290</td>\n",
       "      <td>TALLOIRES</td>\n",
       "      <td>www.abbaye-talloires.com</td>\n",
       "      <td>-</td>\n",
       "      <td>76</td>\n",
       "      <td>33</td>\n",
       "      <td>-</td>\n",
       "      <td>-</td>\n",
       "      <td>-</td>\n",
       "    </tr>\n",
       "  </tbody>\n",
       "</table>\n",
       "</div>"
      ],
      "text/plain": [
       "  DATE DE CLASSEMENT TYPOLOGIE ÉTABLISSEMENT CLASSEMENT CATÉGORIE  \\\n",
       "0         18/10/2018       HÔTEL DE TOURISME  4 étoiles         -   \n",
       "1         26/09/2019       HÔTEL DE TOURISME  2 étoiles         -   \n",
       "2         12/06/2017       HÔTEL DE TOURISME  4 étoiles         -   \n",
       "3         22/09/2017       HÔTEL DE TOURISME  4 étoiles         -   \n",
       "4         29/11/2019       HÔTEL DE TOURISME  3 étoiles         -   \n",
       "5         27/09/2019       HÔTEL DE TOURISME  3 étoiles         -   \n",
       "6         13/07/2016       HÔTEL DE TOURISME  3 étoiles         -   \n",
       "7         21/12/2015       HÔTEL DE TOURISME  4 étoiles         -   \n",
       "8         31/10/2017       HÔTEL DE TOURISME  4 étoiles         -   \n",
       "9         07/06/2017       HÔTEL DE TOURISME  4 étoiles         -   \n",
       "\n",
       "  MENTION (villages de vacances)                            NOM COMMERCIAL  \\\n",
       "0                              -                        1872 STADIUM HÔTEL   \n",
       "1                              -                      3B HÔTEL DE BORDEAUX   \n",
       "2                              -  5 TERRES HÔTEL & SPA MGALLERY BY SOFITEL   \n",
       "3                              -                                7HÔTEL&SPA   \n",
       "4                              -                     9 HÔTEL BASTILLE LYON   \n",
       "5                              -                      9 HÔTEL MONTPARNASSE   \n",
       "6                              -                              9HÔTEL OPÉRA   \n",
       "7                              -                         9HÔTEL RÉPUBLIQUE   \n",
       "8                              -                    ABBAYE DE SAINTE CROIX   \n",
       "9                              -                       ABBAYE DE TALLOIRES   \n",
       "\n",
       "                          ADRESSE CODE POSTAL                   COMMUNE  \\\n",
       "0          Boulevard de Leningrad       76600                  LE HAVRE   \n",
       "1      66 avenue de la Libération       33440        AMBARÈS-ET-LAGRAVE   \n",
       "2    11 Place de l'Hôtel de ville       67140                      BARR   \n",
       "3  550 Boulevard Sébastien Brandt       67400    ILLKIRCH-GRAFFENSTADEN   \n",
       "4                  23 rue de lyon       75012                     PARIS   \n",
       "5        76 rue Raymond Losserand       75014  PARIS 14E ARRONDISSEMENT   \n",
       "6                 14 rue Papillon       75009                     PARIS   \n",
       "7         7/9 Rue Pierre Chausson       75010                     PARIS   \n",
       "8           route du Val de Cuech       13300         SALON-DE-PROVENCE   \n",
       "9               chemin des Moines       74290                 TALLOIRES   \n",
       "\n",
       "                                     SITE INTERNET TYPE DE SÉJOUR  \\\n",
       "0             https://www.1872stadiumhotel.com/fr/              -   \n",
       "1         https://www.hotel-restaurant-gironde.fr/              -   \n",
       "2                     https://5terres-hotel.fr/fr/              -   \n",
       "3                               https://7hotel.fr/              -   \n",
       "4             https://www.9-hotel-bastille-lyon.fr              -   \n",
       "5    https://www.9-hotel-montparnasse-paris.fr/fr/              -   \n",
       "6       http://www.le9hotel.com/fr/h/9-hotel-opera              -   \n",
       "7  http://www.le9hotel.com/fr/h/9-hotel-republique              -   \n",
       "8             http://www.abbaye-de-saintecroix.fr/              -   \n",
       "9                         www.abbaye-talloires.com              -   \n",
       "\n",
       "  CAPACITÉ D'ACCUEIL (PERSONNES) NOMBRE DE CHAMBRES NOMBRE D'EMPLACEMENTS  \\\n",
       "0                             40                 20                     -   \n",
       "1                             26                 14                     -   \n",
       "2                             56                 27                     -   \n",
       "3                            312                139                     -   \n",
       "4                             90                 48                     -   \n",
       "5                             86                 43                     -   \n",
       "6                             91                 48                     -   \n",
       "7                             92                 48                     -   \n",
       "8                             61                 25                     -   \n",
       "9                             76                 33                     -   \n",
       "\n",
       "  NOMBRE D'UNITES D'HABITATION (résidences de tourisme)  \\\n",
       "0                                                  -      \n",
       "1                                                  -      \n",
       "2                                                  -      \n",
       "3                                                  -      \n",
       "4                                                  -      \n",
       "5                                                  -      \n",
       "6                                                  -      \n",
       "7                                                  -      \n",
       "8                                                  -      \n",
       "9                                                  -      \n",
       "\n",
       "  NOMBRE DE LOGEMENTS (villages de vacances)  \n",
       "0                                          -  \n",
       "1                                          -  \n",
       "2                                          -  \n",
       "3                                          -  \n",
       "4                                          -  \n",
       "5                                          -  \n",
       "6                                          -  \n",
       "7                                          -  \n",
       "8                                          -  \n",
       "9                                          -  "
      ]
     },
     "execution_count": 3,
     "metadata": {},
     "output_type": "execute_result"
    }
   ],
   "source": [
    "df.head(10)"
   ]
  },
  {
   "cell_type": "code",
   "execution_count": 4,
   "metadata": {},
   "outputs": [
    {
     "data": {
      "text/plain": [
       "(21326, 16)"
      ]
     },
     "execution_count": 4,
     "metadata": {},
     "output_type": "execute_result"
    }
   ],
   "source": [
    "df.shape"
   ]
  },
  {
   "cell_type": "code",
   "execution_count": 5,
   "metadata": {},
   "outputs": [
    {
     "name": "stdout",
     "output_type": "stream",
     "text": [
      "TYPOLOGIE ÉTABLISSEMENT                                  0.000000\n",
      "CLASSEMENT                                               0.000000\n",
      "NOM COMMERCIAL                                           0.000000\n",
      "CAPACITÉ D'ACCUEIL (PERSONNES)                           0.001032\n",
      "NOMBRE DE CHAMBRES                                       0.386336\n",
      "NOMBRE D'EMPLACEMENTS                                    0.711760\n",
      "NOMBRE D'UNITES D'HABITATION (résidences de tourisme)    0.927319\n",
      "NOMBRE DE LOGEMENTS (villages de vacances)               0.974679\n",
      "dtype: float64\n"
     ]
    }
   ],
   "source": [
    "num_missing = (df[[\"TYPOLOGIE ÉTABLISSEMENT\",\"CLASSEMENT\", \"NOM COMMERCIAL\", \"CAPACITÉ D'ACCUEIL (PERSONNES)\", \"NOMBRE DE CHAMBRES\", \"NOMBRE D'EMPLACEMENTS\", \"NOMBRE D'UNITES D'HABITATION (résidences de tourisme)\", \"NOMBRE DE LOGEMENTS (villages de vacances)\"]] == \"-\").sum()/len(df)\n",
    "print(num_missing)"
   ]
  },
  {
   "cell_type": "raw",
   "metadata": {},
   "source": [
    "* On peut voir que dans cette base, la pourcentage des valeurs nulles à la variable  \"NOMBRE DE LOGEMENTS (villages de vacances)\"  est très grande (97,5%). Si je utilise la technique Impultation comme la variable NOMBRE DE CHAMBRES, cela générerait une énorme quantité de biais dans mes données. Et bien sûr qu'on ne peut pas utiliser la techniques effacer des lignes qui ont des valeurs nulls\n",
    "* le modèle construit sur ce type de données ne parviendra pas à prédire quoi que ce soit de plus proche de la réalité car il a été construit sur 98% des données d'hypothèse.\n",
    "=>>> la solution que je choisi dans ce cas, je n'utilise pas les variables \"NOMBRE D'UNITES D'HABITATION (résidences de tourisme)\" et \"NOMBRE DE LOGEMENTS (villages de vacances)\"\n",
    "* Pour la variable \"CAPACITÉ D'ACCUEIL (PERSONNES)\", il y a 22 valeurs vides sur 21326 lignes, donc que également, je peux éffacer des lignes vides \n",
    "* Et pour les variables \"NOMBRE DE CHAMBRES\" et \"NOMBRE D'EMPLACEMENTS\", je utilise la technique Impulatation avec Median/ Mean des valeurs dans la colonne  "
   ]
  },
  {
   "cell_type": "code",
   "execution_count": 6,
   "metadata": {},
   "outputs": [
    {
     "data": {
      "text/plain": [
       "DATE DE CLASSEMENT                                       object\n",
       "TYPOLOGIE ÉTABLISSEMENT                                  object\n",
       "CLASSEMENT                                               object\n",
       "CATÉGORIE                                                object\n",
       "MENTION (villages de vacances)                           object\n",
       "NOM COMMERCIAL                                           object\n",
       "ADRESSE                                                  object\n",
       "CODE POSTAL                                              object\n",
       "COMMUNE                                                  object\n",
       "SITE INTERNET                                            object\n",
       "TYPE DE SÉJOUR                                           object\n",
       "CAPACITÉ D'ACCUEIL (PERSONNES)                           object\n",
       "NOMBRE DE CHAMBRES                                       object\n",
       "NOMBRE D'EMPLACEMENTS                                    object\n",
       "NOMBRE D'UNITES D'HABITATION (résidences de tourisme)    object\n",
       "NOMBRE DE LOGEMENTS (villages de vacances)               object\n",
       "dtype: object"
      ]
     },
     "execution_count": 6,
     "metadata": {},
     "output_type": "execute_result"
    }
   ],
   "source": [
    "df.dtypes"
   ]
  },
  {
   "cell_type": "code",
   "execution_count": 7,
   "metadata": {},
   "outputs": [],
   "source": [
    "df.replace('-', np.NaN, inplace=True)"
   ]
  },
  {
   "cell_type": "code",
   "execution_count": 8,
   "metadata": {},
   "outputs": [],
   "source": [
    "df.drop( df[ df[\"CAPACITÉ D'ACCUEIL (PERSONNES)\"].isnull() ].index , inplace=True)"
   ]
  },
  {
   "cell_type": "code",
   "execution_count": 9,
   "metadata": {},
   "outputs": [
    {
     "data": {
      "text/plain": [
       "DATE DE CLASSEMENT                                           0\n",
       "TYPOLOGIE ÉTABLISSEMENT                                      0\n",
       "CLASSEMENT                                                   0\n",
       "CATÉGORIE                                                15357\n",
       "MENTION (villages de vacances)                           21074\n",
       "NOM COMMERCIAL                                               0\n",
       "ADRESSE                                                      0\n",
       "CODE POSTAL                                                  1\n",
       "COMMUNE                                                     15\n",
       "SITE INTERNET                                              294\n",
       "TYPE DE SÉJOUR                                           20764\n",
       "CAPACITÉ D'ACCUEIL (PERSONNES)                               0\n",
       "NOMBRE DE CHAMBRES                                        8223\n",
       "NOMBRE D'EMPLACEMENTS                                    15168\n",
       "NOMBRE D'UNITES D'HABITATION (résidences de tourisme)    19755\n",
       "NOMBRE DE LOGEMENTS (villages de vacances)               20764\n",
       "dtype: int64"
      ]
     },
     "execution_count": 9,
     "metadata": {},
     "output_type": "execute_result"
    }
   ],
   "source": [
    "df.isnull().sum()"
   ]
  },
  {
   "cell_type": "code",
   "execution_count": 10,
   "metadata": {
    "scrolled": true
   },
   "outputs": [
    {
     "data": {
      "text/plain": [
       "DATE DE CLASSEMENT                                       object\n",
       "TYPOLOGIE ÉTABLISSEMENT                                  object\n",
       "CLASSEMENT                                               object\n",
       "CATÉGORIE                                                object\n",
       "MENTION (villages de vacances)                           object\n",
       "NOM COMMERCIAL                                           object\n",
       "ADRESSE                                                  object\n",
       "CODE POSTAL                                              object\n",
       "COMMUNE                                                  object\n",
       "SITE INTERNET                                            object\n",
       "TYPE DE SÉJOUR                                           object\n",
       "CAPACITÉ D'ACCUEIL (PERSONNES)                           object\n",
       "NOMBRE DE CHAMBRES                                       object\n",
       "NOMBRE D'EMPLACEMENTS                                    object\n",
       "NOMBRE D'UNITES D'HABITATION (résidences de tourisme)    object\n",
       "NOMBRE DE LOGEMENTS (villages de vacances)               object\n",
       "dtype: object"
      ]
     },
     "execution_count": 10,
     "metadata": {},
     "output_type": "execute_result"
    }
   ],
   "source": [
    "df.dtypes"
   ]
  },
  {
   "cell_type": "raw",
   "metadata": {},
   "source": [
    "Pour utiliser la technique avec MEAN, les valeurs de la colonne NOMBRE D'EMPLACEMENTS et NOMBRE DE CHAMBRES doit être en Integer ou Float, mais ont peux voir que son type est en objet, donce que dans l'étape suivant, je transforme son type à float( ou Integer)"
   ]
  },
  {
   "cell_type": "code",
   "execution_count": 11,
   "metadata": {},
   "outputs": [],
   "source": [
    "df[\"NOMBRE DE CHAMBRES\"] = df[\"NOMBRE DE CHAMBRES\"].astype(float)\n",
    "df[\"NOMBRE D'EMPLACEMENTS\"] = df[\"NOMBRE D'EMPLACEMENTS\"].astype(float)\n",
    "df[\"CAPACITÉ D'ACCUEIL (PERSONNES)\"] = df[\"CAPACITÉ D'ACCUEIL (PERSONNES)\"].astype(float)"
   ]
  },
  {
   "cell_type": "code",
   "execution_count": 12,
   "metadata": {},
   "outputs": [],
   "source": [
    "df[\"NOMBRE DE CHAMBRES\"] = df[\"NOMBRE DE CHAMBRES\"].replace(np.NaN, df[\"NOMBRE DE CHAMBRES\"].mean()).astype(int)\n",
    "df[\"NOMBRE D'EMPLACEMENTS\"] = df[\"NOMBRE D'EMPLACEMENTS\"].replace(np.NaN, df[\"NOMBRE DE CHAMBRES\"].mean()).astype(int)"
   ]
  },
  {
   "cell_type": "code",
   "execution_count": 13,
   "metadata": {},
   "outputs": [],
   "source": [
    "import sklearn \n",
    "from sklearn.preprocessing import LabelEncoder"
   ]
  },
  {
   "cell_type": "code",
   "execution_count": 14,
   "metadata": {},
   "outputs": [],
   "source": [
    "lb_make = LabelEncoder()\n",
    "df[\"TYPOLOGIE ÉTABLISSEMENT_code\"] = lb_make.fit_transform(df[\"TYPOLOGIE ÉTABLISSEMENT\"])\n",
    "df[\"NOM COMMERCIAL_code\"] = lb_make.fit_transform(df[\"NOM COMMERCIAL\"])\n",
    "df[\"CL_code\"] = lb_make.fit_transform(df[\"CLASSEMENT\"])"
   ]
  },
  {
   "cell_type": "code",
   "execution_count": 15,
   "metadata": {},
   "outputs": [
    {
     "data": {
      "text/plain": [
       "DATE DE CLASSEMENT                                        object\n",
       "TYPOLOGIE ÉTABLISSEMENT                                   object\n",
       "CLASSEMENT                                                object\n",
       "CATÉGORIE                                                 object\n",
       "MENTION (villages de vacances)                            object\n",
       "NOM COMMERCIAL                                            object\n",
       "ADRESSE                                                   object\n",
       "CODE POSTAL                                               object\n",
       "COMMUNE                                                   object\n",
       "SITE INTERNET                                             object\n",
       "TYPE DE SÉJOUR                                            object\n",
       "CAPACITÉ D'ACCUEIL (PERSONNES)                           float64\n",
       "NOMBRE DE CHAMBRES                                         int32\n",
       "NOMBRE D'EMPLACEMENTS                                      int32\n",
       "NOMBRE D'UNITES D'HABITATION (résidences de tourisme)     object\n",
       "NOMBRE DE LOGEMENTS (villages de vacances)                object\n",
       "TYPOLOGIE ÉTABLISSEMENT_code                               int32\n",
       "NOM COMMERCIAL_code                                        int32\n",
       "CL_code                                                    int32\n",
       "dtype: object"
      ]
     },
     "execution_count": 15,
     "metadata": {},
     "output_type": "execute_result"
    }
   ],
   "source": [
    "df.dtypes"
   ]
  },
  {
   "cell_type": "code",
   "execution_count": 16,
   "metadata": {},
   "outputs": [
    {
     "data": {
      "text/plain": [
       "0        False\n",
       "1        False\n",
       "2        False\n",
       "3        False\n",
       "4        False\n",
       "         ...  \n",
       "21321    False\n",
       "21322    False\n",
       "21323    False\n",
       "21324    False\n",
       "21325    False\n",
       "Name: CLASSEMENT, Length: 21304, dtype: bool"
      ]
     },
     "execution_count": 16,
     "metadata": {},
     "output_type": "execute_result"
    }
   ],
   "source": [
    "df[\"CLASSEMENT\"] == \"5 étoiles\""
   ]
  },
  {
   "cell_type": "code",
   "execution_count": 17,
   "metadata": {},
   "outputs": [],
   "source": [
    "def numeric_classement(x):\n",
    "    if x == \"1 étoile\":\n",
    "        return 1\n",
    "    elif x == \"2 étoiles\":\n",
    "        return 2\n",
    "    elif x == \"3 étoiles\":\n",
    "        return 3\n",
    "    elif x == \"4 étoiles\":\n",
    "        return 4  \n",
    "    else: #On a vu que la colonne df[\"CLASSEMENT\"] n'a pas des valeurs nulls donc que le reste c'est le denier cas avec 4 étoiles \n",
    "        return 5\n",
    "df[\"CLASSEMENT_code\"] = df[\"CLASSEMENT\"].apply(numeric_classement)"
   ]
  },
  {
   "cell_type": "code",
   "execution_count": 18,
   "metadata": {},
   "outputs": [
    {
     "data": {
      "text/plain": [
       "DATE DE CLASSEMENT                                        object\n",
       "TYPOLOGIE ÉTABLISSEMENT                                   object\n",
       "CLASSEMENT                                                object\n",
       "CATÉGORIE                                                 object\n",
       "MENTION (villages de vacances)                            object\n",
       "NOM COMMERCIAL                                            object\n",
       "ADRESSE                                                   object\n",
       "CODE POSTAL                                               object\n",
       "COMMUNE                                                   object\n",
       "SITE INTERNET                                             object\n",
       "TYPE DE SÉJOUR                                            object\n",
       "CAPACITÉ D'ACCUEIL (PERSONNES)                           float64\n",
       "NOMBRE DE CHAMBRES                                         int32\n",
       "NOMBRE D'EMPLACEMENTS                                      int32\n",
       "NOMBRE D'UNITES D'HABITATION (résidences de tourisme)     object\n",
       "NOMBRE DE LOGEMENTS (villages de vacances)                object\n",
       "TYPOLOGIE ÉTABLISSEMENT_code                               int32\n",
       "NOM COMMERCIAL_code                                        int32\n",
       "CL_code                                                    int32\n",
       "CLASSEMENT_code                                            int64\n",
       "dtype: object"
      ]
     },
     "execution_count": 18,
     "metadata": {},
     "output_type": "execute_result"
    }
   ],
   "source": [
    "df.dtypes"
   ]
  },
  {
   "cell_type": "code",
   "execution_count": 19,
   "metadata": {},
   "outputs": [
    {
     "data": {
      "text/plain": [
       "DATE DE CLASSEMENT                                           0\n",
       "TYPOLOGIE ÉTABLISSEMENT                                      0\n",
       "CLASSEMENT                                                   0\n",
       "CATÉGORIE                                                15357\n",
       "MENTION (villages de vacances)                           21074\n",
       "NOM COMMERCIAL                                               0\n",
       "ADRESSE                                                      0\n",
       "CODE POSTAL                                                  1\n",
       "COMMUNE                                                     15\n",
       "SITE INTERNET                                              294\n",
       "TYPE DE SÉJOUR                                           20764\n",
       "CAPACITÉ D'ACCUEIL (PERSONNES)                               0\n",
       "NOMBRE DE CHAMBRES                                           0\n",
       "NOMBRE D'EMPLACEMENTS                                        0\n",
       "NOMBRE D'UNITES D'HABITATION (résidences de tourisme)    19755\n",
       "NOMBRE DE LOGEMENTS (villages de vacances)               20764\n",
       "TYPOLOGIE ÉTABLISSEMENT_code                                 0\n",
       "NOM COMMERCIAL_code                                          0\n",
       "CL_code                                                      0\n",
       "CLASSEMENT_code                                              0\n",
       "dtype: int64"
      ]
     },
     "execution_count": 19,
     "metadata": {},
     "output_type": "execute_result"
    }
   ],
   "source": [
    "df.isnull().sum()"
   ]
  },
  {
   "cell_type": "raw",
   "metadata": {},
   "source": [
    "Maintenant, on a fini l'étape \"CLEANING BASE\", on peut faire une prédiction "
   ]
  },
  {
   "cell_type": "code",
   "execution_count": 20,
   "metadata": {},
   "outputs": [],
   "source": [
    "import matplotlib.pyplot as plt\n",
    "import sklearn\n",
    "from sklearn.neural_network import MLPClassifier\n",
    "from sklearn.neural_network import MLPRegressor\n",
    "\n",
    "\n",
    "from sklearn.model_selection import train_test_split\n",
    "from sklearn.metrics import mean_squared_error\n",
    "from math import sqrt\n",
    "from sklearn.metrics import r2_score"
   ]
  },
  {
   "cell_type": "code",
   "execution_count": 21,
   "metadata": {},
   "outputs": [
    {
     "data": {
      "text/html": [
       "<div>\n",
       "<style scoped>\n",
       "    .dataframe tbody tr th:only-of-type {\n",
       "        vertical-align: middle;\n",
       "    }\n",
       "\n",
       "    .dataframe tbody tr th {\n",
       "        vertical-align: top;\n",
       "    }\n",
       "\n",
       "    .dataframe thead th {\n",
       "        text-align: right;\n",
       "    }\n",
       "</style>\n",
       "<table border=\"1\" class=\"dataframe\">\n",
       "  <thead>\n",
       "    <tr style=\"text-align: right;\">\n",
       "      <th></th>\n",
       "      <th>count</th>\n",
       "      <th>mean</th>\n",
       "      <th>std</th>\n",
       "      <th>min</th>\n",
       "      <th>25%</th>\n",
       "      <th>50%</th>\n",
       "      <th>75%</th>\n",
       "      <th>max</th>\n",
       "    </tr>\n",
       "  </thead>\n",
       "  <tbody>\n",
       "    <tr>\n",
       "      <th>CAPACITÉ D'ACCUEIL (PERSONNES)</th>\n",
       "      <td>21304.0</td>\n",
       "      <td>0.023390</td>\n",
       "      <td>0.036980</td>\n",
       "      <td>0.000099</td>\n",
       "      <td>0.005221</td>\n",
       "      <td>0.011131</td>\n",
       "      <td>0.027581</td>\n",
       "      <td>1.0</td>\n",
       "    </tr>\n",
       "    <tr>\n",
       "      <th>NOMBRE DE CHAMBRES</th>\n",
       "      <td>21304.0</td>\n",
       "      <td>0.038808</td>\n",
       "      <td>0.034856</td>\n",
       "      <td>0.002745</td>\n",
       "      <td>0.022873</td>\n",
       "      <td>0.038426</td>\n",
       "      <td>0.038426</td>\n",
       "      <td>1.0</td>\n",
       "    </tr>\n",
       "    <tr>\n",
       "      <th>NOMBRE D'EMPLACEMENTS</th>\n",
       "      <td>21304.0</td>\n",
       "      <td>0.026474</td>\n",
       "      <td>0.032505</td>\n",
       "      <td>0.000788</td>\n",
       "      <td>0.016548</td>\n",
       "      <td>0.016548</td>\n",
       "      <td>0.016548</td>\n",
       "      <td>1.0</td>\n",
       "    </tr>\n",
       "    <tr>\n",
       "      <th>TYPOLOGIE ÉTABLISSEMENT_code</th>\n",
       "      <td>21304.0</td>\n",
       "      <td>0.236810</td>\n",
       "      <td>0.224185</td>\n",
       "      <td>0.000000</td>\n",
       "      <td>0.000000</td>\n",
       "      <td>0.250000</td>\n",
       "      <td>0.250000</td>\n",
       "      <td>1.0</td>\n",
       "    </tr>\n",
       "    <tr>\n",
       "      <th>NOM COMMERCIAL_code</th>\n",
       "      <td>21304.0</td>\n",
       "      <td>0.493231</td>\n",
       "      <td>0.283416</td>\n",
       "      <td>0.000000</td>\n",
       "      <td>0.245812</td>\n",
       "      <td>0.483958</td>\n",
       "      <td>0.732693</td>\n",
       "      <td>1.0</td>\n",
       "    </tr>\n",
       "    <tr>\n",
       "      <th>CL_code</th>\n",
       "      <td>21304.0</td>\n",
       "      <td>1.893729</td>\n",
       "      <td>0.864022</td>\n",
       "      <td>0.000000</td>\n",
       "      <td>1.000000</td>\n",
       "      <td>2.000000</td>\n",
       "      <td>2.000000</td>\n",
       "      <td>5.0</td>\n",
       "    </tr>\n",
       "    <tr>\n",
       "      <th>CLASSEMENT_code</th>\n",
       "      <td>21304.0</td>\n",
       "      <td>2.891898</td>\n",
       "      <td>0.858480</td>\n",
       "      <td>1.000000</td>\n",
       "      <td>2.000000</td>\n",
       "      <td>3.000000</td>\n",
       "      <td>3.000000</td>\n",
       "      <td>5.0</td>\n",
       "    </tr>\n",
       "  </tbody>\n",
       "</table>\n",
       "</div>"
      ],
      "text/plain": [
       "                                  count      mean       std       min  \\\n",
       "CAPACITÉ D'ACCUEIL (PERSONNES)  21304.0  0.023390  0.036980  0.000099   \n",
       "NOMBRE DE CHAMBRES              21304.0  0.038808  0.034856  0.002745   \n",
       "NOMBRE D'EMPLACEMENTS           21304.0  0.026474  0.032505  0.000788   \n",
       "TYPOLOGIE ÉTABLISSEMENT_code    21304.0  0.236810  0.224185  0.000000   \n",
       "NOM COMMERCIAL_code             21304.0  0.493231  0.283416  0.000000   \n",
       "CL_code                         21304.0  1.893729  0.864022  0.000000   \n",
       "CLASSEMENT_code                 21304.0  2.891898  0.858480  1.000000   \n",
       "\n",
       "                                     25%       50%       75%  max  \n",
       "CAPACITÉ D'ACCUEIL (PERSONNES)  0.005221  0.011131  0.027581  1.0  \n",
       "NOMBRE DE CHAMBRES              0.022873  0.038426  0.038426  1.0  \n",
       "NOMBRE D'EMPLACEMENTS           0.016548  0.016548  0.016548  1.0  \n",
       "TYPOLOGIE ÉTABLISSEMENT_code    0.000000  0.250000  0.250000  1.0  \n",
       "NOM COMMERCIAL_code             0.245812  0.483958  0.732693  1.0  \n",
       "CL_code                         1.000000  2.000000  2.000000  5.0  \n",
       "CLASSEMENT_code                 2.000000  3.000000  3.000000  5.0  "
      ]
     },
     "execution_count": 21,
     "metadata": {},
     "output_type": "execute_result"
    }
   ],
   "source": [
    "target_column = [\"CLASSEMENT_code\"] \n",
    "predictors = [\"TYPOLOGIE ÉTABLISSEMENT_code\", \"NOM COMMERCIAL_code\", \"CAPACITÉ D'ACCUEIL (PERSONNES)\", \"NOMBRE DE CHAMBRES\", \"NOMBRE D'EMPLACEMENTS\" ]\n",
    "df[predictors] = df[predictors]/df[predictors].max()\n",
    "df.describe().transpose()"
   ]
  },
  {
   "cell_type": "code",
   "execution_count": 22,
   "metadata": {},
   "outputs": [
    {
     "name": "stdout",
     "output_type": "stream",
     "text": [
      "(14912, 5)\n",
      "(6392, 5)\n"
     ]
    }
   ],
   "source": [
    "X = df[predictors].values\n",
    "y = df[target_column].values\n",
    "\n",
    "X_train, X_test, y_train, y_test = train_test_split(X, y, test_size=0.30, random_state=40)\n",
    "print(X_train.shape); print(X_test.shape)"
   ]
  },
  {
   "cell_type": "code",
   "execution_count": 23,
   "metadata": {},
   "outputs": [
    {
     "name": "stdout",
     "output_type": "stream",
     "text": [
      "['TYPOLOGIE ÉTABLISSEMENT_code', 'NOM COMMERCIAL_code', \"CAPACITÉ D'ACCUEIL (PERSONNES)\", 'NOMBRE DE CHAMBRES', \"NOMBRE D'EMPLACEMENTS\"]\n"
     ]
    }
   ],
   "source": [
    "print(predictors)"
   ]
  },
  {
   "cell_type": "code",
   "execution_count": 30,
   "metadata": {},
   "outputs": [
    {
     "name": "stderr",
     "output_type": "stream",
     "text": [
      "C:\\Users\\Lily Huong\\anaconda3\\lib\\site-packages\\sklearn\\utils\\validation.py:72: DataConversionWarning: A column-vector y was passed when a 1d array was expected. Please change the shape of y to (n_samples, ), for example using ravel().\n",
      "  return f(**kwargs)\n"
     ]
    }
   ],
   "source": [
    "mlp = MLPClassifier(hidden_layer_sizes=(500,200,50), activation='relu', solver='adam', max_iter=500)\n",
    "mlp.fit(X_train,y_train)\n",
    "\n",
    "predict_train = mlp.predict(X_train)\n",
    "predict_test = mlp.predict(X_test)"
   ]
  },
  {
   "cell_type": "code",
   "execution_count": 31,
   "metadata": {},
   "outputs": [
    {
     "name": "stdout",
     "output_type": "stream",
     "text": [
      "[[  56  237  248   26    0]\n",
      " [  21 2075 1955  143    2]\n",
      " [   9 1424 5184  392    2]\n",
      " [   7  271 1489  850    3]\n",
      " [   3   65  259  147   44]]\n",
      "              precision    recall  f1-score   support\n",
      "\n",
      "           1       0.58      0.10      0.17       567\n",
      "           2       0.51      0.49      0.50      4196\n",
      "           3       0.57      0.74      0.64      7011\n",
      "           4       0.55      0.32      0.41      2620\n",
      "           5       0.86      0.08      0.15       518\n",
      "\n",
      "    accuracy                           0.55     14912\n",
      "   macro avg       0.61      0.35      0.37     14912\n",
      "weighted avg       0.56      0.55      0.53     14912\n",
      "\n"
     ]
    }
   ],
   "source": [
    "from sklearn.metrics import classification_report,confusion_matrix\n",
    "print(confusion_matrix(y_train,predict_train))\n",
    "print(classification_report(y_train,predict_train))"
   ]
  },
  {
   "cell_type": "code",
   "execution_count": 29,
   "metadata": {},
   "outputs": [
    {
     "name": "stdout",
     "output_type": "stream",
     "text": [
      "[[  28   92  117    6    0]\n",
      " [  17  758  951   44    0]\n",
      " [  10  536 2281  137    0]\n",
      " [   1  122  787  285    8]\n",
      " [   1   21  108   68   14]]\n",
      "              precision    recall  f1-score   support\n",
      "\n",
      "           1       0.49      0.12      0.19       243\n",
      "           2       0.50      0.43      0.46      1770\n",
      "           3       0.54      0.77      0.63      2964\n",
      "           4       0.53      0.24      0.33      1203\n",
      "           5       0.64      0.07      0.12       212\n",
      "\n",
      "    accuracy                           0.53      6392\n",
      "   macro avg       0.54      0.32      0.35      6392\n",
      "weighted avg       0.53      0.53      0.49      6392\n",
      "\n"
     ]
    }
   ],
   "source": [
    "print(confusion_matrix(y_test,predict_test))\n",
    "print(classification_report(y_test,predict_test))"
   ]
  },
  {
   "cell_type": "raw",
   "metadata": {},
   "source": [
    "On peut voir que la précision est très bas 0,5, car dans notre donnée, le taux de non réponse de certaints variables est très haut entre 80 - 99%"
   ]
  }
 ],
 "metadata": {
  "kernelspec": {
   "display_name": "Python 3",
   "language": "python",
   "name": "python3"
  },
  "language_info": {
   "codemirror_mode": {
    "name": "ipython",
    "version": 3
   },
   "file_extension": ".py",
   "mimetype": "text/x-python",
   "name": "python",
   "nbconvert_exporter": "python",
   "pygments_lexer": "ipython3",
   "version": "3.7.9"
  }
 },
 "nbformat": 4,
 "nbformat_minor": 5
}
